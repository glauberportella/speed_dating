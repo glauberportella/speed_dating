{
 "cells": [
  {
   "cell_type": "code",
   "execution_count": 1,
   "metadata": {
    "collapsed": true
   },
   "outputs": [],
   "source": [
    "import numpy as np"
   ]
  },
  {
   "cell_type": "code",
   "execution_count": 2,
   "metadata": {
    "collapsed": true
   },
   "outputs": [],
   "source": [
    "import pandas as pd\n",
    "import re\n",
    "dating = pd.read_csv('dating-full.csv')\n",
    "count_quotes = 0\n",
    "count_lowercase = 0"
   ]
  },
  {
   "cell_type": "code",
   "execution_count": 3,
   "metadata": {
    "collapsed": true
   },
   "outputs": [],
   "source": [
    "def remove_quotes(column):\n",
    "    global count_quotes\n",
    "    count = column.str.count(\"\\'.*\\'\").sum()\n",
    "#     print (count)\n",
    "    if count_quotes != count:\n",
    "        count_quotes += count\n",
    "    return column.str.strip('\\'')\n",
    "\n",
    "def convert_lowercase(column):\n",
    "    global count_lowercase\n",
    "    count_lowercase = len(column)- column.str.islower().sum()\n",
    "#     print (count_lowercase)\n",
    "    return column.str.lower()"
   ]
  },
  {
   "cell_type": "code",
   "execution_count": 4,
   "metadata": {},
   "outputs": [],
   "source": [
    "dating[['race','race_o','field']] = dating[['race','race_o','field']].apply(remove_quotes)"
   ]
  },
  {
   "cell_type": "code",
   "execution_count": 5,
   "metadata": {},
   "outputs": [],
   "source": [
    "dating[['field']] = dating[['field']].apply(convert_lowercase)"
   ]
  },
  {
   "cell_type": "code",
   "execution_count": 6,
   "metadata": {},
   "outputs": [
    {
     "name": "stdout",
     "output_type": "stream",
     "text": [
      "Quotes removed from 8316 cells\n",
      "Standardized 5707 cells to lower case.\n"
     ]
    }
   ],
   "source": [
    "print ('Quotes removed from', count_quotes, 'cells')\n",
    "print('Standardized', count_lowercase , 'cells to lower case.')"
   ]
  },
  {
   "cell_type": "code",
   "execution_count": 7,
   "metadata": {},
   "outputs": [],
   "source": [
    "global_encoder_by_field = {}\n",
    "def get_encoding(column):\n",
    "    column = column.astype('category')\n",
    "    encoding = {}\n",
    "    for i, category in enumerate(column.cat.categories):\n",
    "        encoding[category] = i\n",
    "    global_encoder_by_field[column.name] = encoding\n",
    "    return column.cat.codes"
   ]
  },
  {
   "cell_type": "code",
   "execution_count": 8,
   "metadata": {},
   "outputs": [],
   "source": [
    "dating[['race','race_o','gender','field']] = dating[['race','race_o','gender','field']].apply(get_encoding)"
   ]
  },
  {
   "cell_type": "code",
   "execution_count": 122,
   "metadata": {},
   "outputs": [
    {
     "name": "stdout",
     "output_type": "stream",
     "text": [
      "Value assigned for male in column gender: 1\n",
      "Value assigned for European/Caucasian-American in column race: 2\n",
      "Value assigned for Latino/Hispanic American in column race o: 3\n",
      "Value assigned for law in column field: 121\n"
     ]
    }
   ],
   "source": [
    "print ('Value assigned for male in column gender:', global_encoder_by_field['gender']['male'])\n",
    "print ('Value assigned for European/Caucasian-American in column race:', global_encoder_by_field['race']['European/Caucasian-American'])\n",
    "print ('Value assigned for Latino/Hispanic American in column race o:', global_encoder_by_field['race_o']['Latino/Hispanic American'])\n",
    "print ('Value assigned for law in column field:', global_encoder_by_field['field']['law'])"
   ]
  },
  {
   "cell_type": "code",
   "execution_count": 10,
   "metadata": {
    "collapsed": true
   },
   "outputs": [],
   "source": [
    "partner_cols = ['pref_o_attractive','pref_o_sincere','pref_o_intelligence','pref_o_funny','pref_o_ambitious','pref_o_shared_interests']\n",
    "participant_cols = ['attractive_important', 'sincere_important', 'intelligence_important', 'funny_important', 'ambition_important', 'shared_interests_important']    "
   ]
  },
  {
   "cell_type": "code",
   "execution_count": 11,
   "metadata": {
    "collapsed": true
   },
   "outputs": [],
   "source": [
    "total_partner = 0\n",
    "total_participant = 0"
   ]
  },
  {
   "cell_type": "code",
   "execution_count": 12,
   "metadata": {
    "collapsed": true
   },
   "outputs": [],
   "source": [
    "for i in range (0,6):\n",
    "    total_partner += dating[partner_cols[i]]\n",
    "    total_participant += dating[participant_cols[i]]\n",
    "# print (total_partner)\n",
    "# print (total_participant)"
   ]
  },
  {
   "cell_type": "code",
   "execution_count": 13,
   "metadata": {
    "collapsed": true
   },
   "outputs": [],
   "source": [
    "for i in range(0,6):\n",
    "    dating[partner_cols[i]]/=total_partner\n",
    "    dating[participant_cols[i]]/=total_participant"
   ]
  },
  {
   "cell_type": "code",
   "execution_count": 14,
   "metadata": {},
   "outputs": [
    {
     "name": "stdout",
     "output_type": "stream",
     "text": [
      "Mean of  attractive_important : 0.22\n",
      "Mean of  sincere_important : 0.17\n",
      "Mean of  intelligence_important : 0.2\n",
      "Mean of  funny_important : 0.17\n",
      "Mean of  ambition_important : 0.11\n",
      "Mean of  shared_interests_important : 0.12\n",
      "Mean of  pref_o_attractive : 0.22\n",
      "Mean of  pref_o_sincere : 0.17\n",
      "Mean of  pref_o_intelligence : 0.2\n",
      "Mean of  pref_o_funny : 0.17\n",
      "Mean of  pref_o_ambitious : 0.11\n",
      "Mean of  pref_o_shared_interests : 0.12\n"
     ]
    }
   ],
   "source": [
    "for i in range(0,6):\n",
    "    participant_mean = dating[participant_cols[i]].sum()/len(dating[participant_cols[i]])\n",
    "    print ('Mean of ', participant_cols[i], ':', round(participant_mean, 2))\n",
    "for i in range(0,6): \n",
    "    partner_mean = dating[partner_cols[i]].sum()/len(dating[partner_cols[i]])\n",
    "    print ('Mean of ', partner_cols[i], ':', round(partner_mean, 2))"
   ]
  },
  {
   "cell_type": "code",
   "execution_count": 15,
   "metadata": {
    "collapsed": true
   },
   "outputs": [],
   "source": [
    "dating.to_csv('dating.csv', index = False)"
   ]
  },
  {
   "cell_type": "code",
   "execution_count": 16,
   "metadata": {},
   "outputs": [
    {
     "name": "stdout",
     "output_type": "stream",
     "text": [
      "Mean of  attractive_important : 0.18\n",
      "Mean of  sincere_important : 0.18\n",
      "Mean of  intelligence_important : 0.21\n",
      "Mean of  funny_important : 0.17\n",
      "Mean of  ambition_important : 0.13\n",
      "Mean of  shared_interests_important : 0.12\n",
      "Mean of  attractive_important : 0.26\n",
      "Mean of  sincere_important : 0.17\n",
      "Mean of  intelligence_important : 0.2\n",
      "Mean of  funny_important : 0.18\n",
      "Mean of  ambition_important : 0.09\n",
      "Mean of  shared_interests_important : 0.11\n"
     ]
    }
   ],
   "source": [
    "def get_print_participant_mean(dataframe):\n",
    "    mean_scores = []\n",
    "    for i in range(0,6):\n",
    "        participant_mean = dataframe[participant_cols[i]].sum()/len(dataframe[participant_cols[i]])\n",
    "        print ('Mean of ', participant_cols[i], ':', round(participant_mean, 2))\n",
    "        mean_scores.append(participant_mean)\n",
    "    return mean_scores\n",
    "\n",
    "dating_female = dating[dating['gender'] == 0]\n",
    "dating_male = dating[dating['gender'] == 1]\n",
    "female_mean_scores = get_print_participant_mean(dating_female)\n",
    "male_mean_scores = get_print_participant_mean(dating_male)"
   ]
  },
  {
   "cell_type": "code",
   "execution_count": 26,
   "metadata": {},
   "outputs": [
    {
     "data": {
      "image/png": "[encoded data removed]",
      "text/plain": [
       "<matplotlib.figure.Figure at 0x1203bcc18>"
      ]
     },
     "metadata": {},
     "output_type": "display_data"
    }
   ],
   "source": [
    "import matplotlib.pyplot as plt\n",
    "ind = np.arange(6)\n",
    "width = 0.35\n",
    "p1 = plt.bar(ind, female_mean_scores, width,color = 'pink')\n",
    "p2 = plt.bar(ind+width, male_mean_scores, width, color = 'blue')\n",
    "plt.ylabel('Mean Scores')\n",
    "plt.title('Preference scores of participants by gender')\n",
    "plt.xticks(ind+width/2, (participant_cols[0], participant_cols[1], participant_cols[2], \n",
    "                 participant_cols[3], participant_cols[4], participant_cols[5]), rotation=80)\n",
    "plt.yticks(np.arange(0,0.5,0.05))\n",
    "plt.legend((p1[0], p2[0]), ('Female', 'Male'))\n",
    "\n",
    "plt.show()"
   ]
  },
  {
   "cell_type": "code",
   "execution_count": 18,
   "metadata": {},
   "outputs": [],
   "source": [
    "def get_distinct_values_rating_partner(dataframe, attribute):\n",
    "    print (dataframe[attribute].nunique()) \n",
    "    return (dataframe[attribute].unique())"
   ]
  },
  {
   "cell_type": "code",
   "execution_count": 19,
   "metadata": {},
   "outputs": [
    {
     "name": "stdout",
     "output_type": "stream",
     "text": [
      "17\n",
      "13\n",
      "17\n",
      "16\n",
      "14\n",
      "15\n"
     ]
    }
   ],
   "source": [
    "rating_partner_participant = ['attractive_partner','sincere_partner','intelligence_parter', \n",
    "                             'funny_partner', 'ambition_partner', 'shared_interests_partner']\n",
    "unique_values = []\n",
    "for i in range(0,6):\n",
    "    unique_values.append(get_distinct_values_rating_partner(dating, rating_partner_participant[i]))"
   ]
  },
  {
   "cell_type": "code",
   "execution_count": 20,
   "metadata": {},
   "outputs": [
    {
     "name": "stdout",
     "output_type": "stream",
     "text": [
      "[array([ 6. ,  7. ,  5. ,  4. ,  8. ,  9. ,  3. , 10. ,  2. ,  1. ,  0. ,\n",
      "        6.5,  7.5,  9.5,  8.5,  9.9,  3.5]), array([ 9. ,  8. ,  6. ,  7. ,  5. , 10. ,  4. ,  3. ,  2. ,  1. ,  0. ,\n",
      "        8.5,  7.5]), array([ 7. ,  8. ,  6. ,  9. , 10. ,  5. ,  4. ,  3. ,  2. ,  1. ,  0. ,\n",
      "        6.5,  8.5,  7.5,  9.5,  2.5,  5.5]), array([ 7. ,  8. ,  4. ,  9. ,  6. ,  3. ,  5. , 10. ,  1. ,  2. ,  0. ,\n",
      "        5.5,  6.5,  9.5,  7.5,  8.5]), array([ 6. ,  5. ,  8. , 10. ,  9. ,  3. ,  7. ,  4. ,  2. ,  1. ,  0. ,\n",
      "        9.5,  7.5,  8.5]), array([ 5. ,  6. ,  8. ,  4. ,  7. ,  3. ,  2. ,  9. , 10. ,  1. ,  0. ,\n",
      "        7.5,  6.5,  8.5,  5.5])]\n"
     ]
    }
   ],
   "source": [
    "print (unique_values)"
   ]
  },
  {
   "cell_type": "code",
   "execution_count": 21,
   "metadata": {
    "collapsed": true
   },
   "outputs": [],
   "source": [
    "def get_success_rate(dataframe, attribute, value):\n",
    "    dating_attribute_value = dataframe[dataframe[attribute] == value]\n",
    "    dating_success = dating_attribute_value[dating_attribute_value['decision'] == 1]\n",
    "    return len(dating_success)*1.0/len(dating_attribute_value)"
   ]
  },
  {
   "cell_type": "code",
   "execution_count": 22,
   "metadata": {},
   "outputs": [
    {
     "data": {
      "text/plain": [
       "0.1"
      ]
     },
     "execution_count": 22,
     "metadata": {},
     "output_type": "execute_result"
    }
   ],
   "source": [
    "get_success_rate(dating, rating_partner_participant[0], 1)"
   ]
  },
  {
   "cell_type": "code",
   "execution_count": 23,
   "metadata": {
    "collapsed": true
   },
   "outputs": [],
   "source": [
    "success_rates_all_attributes = []\n",
    "for i in range(6):\n",
    "        success_rate_attribute = []\n",
    "        for value in unique_values[i]:\n",
    "            success_rate_attribute.append(get_success_rate(dating, rating_partner_participant[i], value))\n",
    "        success_rates_all_attributes.append(success_rate_attribute)"
   ]
  },
  {
   "cell_type": "code",
   "execution_count": 24,
   "metadata": {},
   "outputs": [
    {
     "name": "stdout",
     "output_type": "stream",
     "text": [
      "[0.3543022415039769, 0.5510355029585798, 0.22608695652173913, 0.10543130990415335, 0.7310679611650486, 0.7955056179775281, 0.06230529595015576, 0.8582677165354331, 0.06091370558375635, 0.1, 0.0, 0.6, 1.0, 0.3333333333333333, 1.0, 1.0, 0.0]\n"
     ]
    }
   ],
   "source": [
    "print (success_rates_all_attributes[0])"
   ]
  },
  {
   "cell_type": "code",
   "execution_count": 25,
   "metadata": {},
   "outputs": [
    {
     "data": {
      "image/png": "[encoded data removed]",
      "text/plain": [
       "<matplotlib.figure.Figure at 0x10c6d7780>"
      ]
     },
     "metadata": {},
     "output_type": "display_data"
    },
    {
     "data": {
      "text/plain": [
       "<matplotlib.figure.Figure at 0x1181c9dd8>"
      ]
     },
     "metadata": {},
     "output_type": "display_data"
    },
    {
     "data": {
      "image/png": "[encoded data removed]",
      "text/plain": [
       "<matplotlib.figure.Figure at 0x11819fa90>"
      ]
     },
     "metadata": {},
     "output_type": "display_data"
    },
    {
     "data": {
      "text/plain": [
       "<matplotlib.figure.Figure at 0x1182664e0>"
      ]
     },
     "metadata": {},
     "output_type": "display_data"
    },
    {
     "data": {
      "image/png": "[encoded data removed]",
      "text/plain": [
       "<matplotlib.figure.Figure at 0x11818d438>"
      ]
     },
     "metadata": {},
     "output_type": "display_data"
    },
    {
     "data": {
      "text/plain": [
       "<matplotlib.figure.Figure at 0x12025b5f8>"
      ]
     },
     "metadata": {},
     "output_type": "display_data"
    },
    {
     "data": {
      "image/png": "[encoded data removed]",
      "text/plain": [
       "<matplotlib.figure.Figure at 0x11818f470>"
      ]
     },
     "metadata": {},
     "output_type": "display_data"
    },
    {
     "data": {
      "text/plain": [
       "<matplotlib.figure.Figure at 0x1203b7710>"
      ]
     },
     "metadata": {},
     "output_type": "display_data"
    },
    {
     "data": {
      "image/png": "[encoded data removed]",
      "text/plain": [
       "<matplotlib.figure.Figure at 0x118197780>"
      ]
     },
     "metadata": {},
     "output_type": "display_data"
    },
    {
     "data": {
      "text/plain": [
       "<matplotlib.figure.Figure at 0x1204093c8>"
      ]
     },
     "metadata": {},
     "output_type": "display_data"
    },
    {
     "data": {
      "image/png": "[encoded data removed]",
      "text/plain": [
       "<matplotlib.figure.Figure at 0x1202a5400>"
      ]
     },
     "metadata": {},
     "output_type": "display_data"
    },
    {
     "data": {
      "text/plain": [
       "<matplotlib.figure.Figure at 0x120402128>"
      ]
     },
     "metadata": {},
     "output_type": "display_data"
    }
   ],
   "source": [
    "import numpy as np\n",
    "import matplotlib.pyplot as plt\n",
    "for i in range(6):\n",
    "    area = np.pi*3\n",
    "    plt.figure(figsize=(8,8))\n",
    "    plt.scatter(unique_values[i], success_rates_all_attributes[i], s=area)\n",
    "\n",
    "    plt.title('Scatter Plot for Partners who Perform Well on ' + rating_partner_participant[i])\n",
    "    plt.xlabel('Attribute Value for ' + rating_partner_participant[i])\n",
    "    plt.ylabel('Success Rate')\n",
    "\n",
    "    plt.xticks(np.arange(0,11,1))\n",
    "    plt.yticks(np.arange(0,1.1,0.1))\n",
    "    plt.show()\n",
    "    plt.savefig('scatter_plot_' + rating_partner_participant[i])"
   ]
  },
  {
   "cell_type": "code",
   "execution_count": 100,
   "metadata": {
    "collapsed": true
   },
   "outputs": [],
   "source": [
    "dating = pd.read_csv(\"dating.csv\")\n",
    "'''\n",
    "clean data for columns gaming and reading\n",
    "'''\n",
    "column = 'gaming'\n",
    "range_highest = 10\n",
    "dating.loc[dating[column] > range_highest,column] = range_highest\n",
    "dating.loc[dating['reading'] > range_highest,'reading'] = range_highest\n"
   ]
  },
  {
   "cell_type": "code",
   "execution_count": 102,
   "metadata": {},
   "outputs": [],
   "source": [
    "def get_binned_column(dataframe, column, num_bins, bin_range):\n",
    "    dataframe[column] = pd.cut(dataframe[column], bin_range, include_lowest = True,\n",
    "                               labels = np.arange(num_bins), retbins = False)\n",
    "    return dataframe[column]"
   ]
  },
  {
   "cell_type": "code",
   "execution_count": 103,
   "metadata": {},
   "outputs": [],
   "source": [
    "non_binned_cols = ['gender', 'race', 'race_o', 'samerace', 'field', 'decision']\n",
    "age_cols = ['age', 'age_o']\n",
    "num_bins = 5\n",
    "for column in dating:\n",
    "    if column not in non_binned_cols:\n",
    "        bin_range = np.arange(0,11,(10-0)/num_bins)\n",
    "        '''\n",
    "        Change bin range if needed\n",
    "        '''\n",
    "        if column in age_cols:\n",
    "            bin_range = np.arange(18,59,(58-18)/num_bins)\n",
    "#             print (\"bin range for age \", column)\n",
    "        elif column in partner_cols or column in participant_cols:\n",
    "            bin_range = np.arange(0,1.1,(1.0)/num_bins)\n",
    "#             print (\"different bin range \", column)\n",
    "        elif column == 'interests_correlate':\n",
    "            bin_range = np.arange(-1,1.1,(1+1)/num_bins)\n",
    "#             print (\"interest column\", column)\n",
    "        \n",
    "        '''\n",
    "        get binned column\n",
    "        '''\n",
    "        dating[column] = get_binned_column(dating, column, num_bins, bin_range)\n",
    "        print (column, \": \", dating[column].values_count)"
   ]
  },
  {
   "cell_type": "code",
   "execution_count": 115,
   "metadata": {},
   "outputs": [
    {
     "name": "stdout",
     "output_type": "stream",
     "text": [
      "age :  [3710, 2932, 97, 0, 5]\n",
      "age_o :  [3704, 2899, 136, 0, 5]\n",
      "importance_same_race :  [2980, 1213, 977, 1013, 561]\n",
      "importance_same_religion :  [3203, 1188, 1110, 742, 501]\n",
      "pref_o_attractive :  [4333, 1987, 344, 51, 29]\n",
      "pref_o_sincere :  [5500, 1225, 19, 0, 0]\n",
      "pref_o_intelligence :  [4601, 2062, 81, 0, 0]\n",
      "pref_o_funny :  [5616, 1103, 25, 0, 0]\n",
      "pref_o_ambitious :  [6656, 88, 0, 0, 0]\n",
      "pref_o_shared_interests :  [6467, 277, 0, 0, 0]\n",
      "attractive_important :  [4323, 2017, 328, 57, 19]\n",
      "sincere_important :  [5495, 1235, 14, 0, 0]\n",
      "intelligence_important :  [4606, 2071, 67, 0, 0]\n",
      "funny_important :  [5588, 1128, 28, 0, 0]\n",
      "ambition_important :  [6644, 100, 0, 0, 0]\n",
      "shared_interests_important :  [6494, 250, 0, 0, 0]\n",
      "attractive :  [18, 276, 1462, 4122, 866]\n",
      "sincere :  [33, 117, 487, 2715, 3392]\n",
      "intelligence :  [34, 185, 1049, 3190, 2286]\n",
      "funny :  [0, 19, 221, 3191, 3313]\n",
      "ambition :  [84, 327, 1070, 2876, 2387]\n",
      "attractive_partner :  [284, 948, 2418, 2390, 704]\n",
      "sincere_partner :  [94, 353, 1627, 3282, 1388]\n",
      "intelligence_parter :  [36, 193, 1509, 3509, 1497]\n",
      "funny_partner :  [279, 733, 2296, 2600, 836]\n",
      "ambition_partner :  [119, 473, 2258, 2804, 1090]\n",
      "shared_interests_partner :  [701, 1269, 2536, 1774, 464]\n",
      "sports :  [650, 961, 1369, 2077, 1687]\n",
      "tvsports :  [2151, 1292, 1233, 1383, 685]\n",
      "exercise :  [619, 952, 1775, 2115, 1283]\n",
      "dining :  [39, 172, 1118, 2797, 2618]\n",
      "museums :  [117, 732, 1417, 2737, 1741]\n",
      "art :  [224, 946, 1557, 2500, 1517]\n",
      "hiking :  [963, 1386, 1575, 1855, 965]\n",
      "gaming :  [2565, 1522, 1435, 979, 243]\n",
      "clubbing :  [912, 1068, 1668, 2193, 903]\n",
      "reading :  [131, 398, 1071, 2317, 2827]\n",
      "tv :  [1188, 1216, 1999, 1642, 699]\n",
      "theater :  [288, 811, 1585, 2300, 1760]\n",
      "movies :  [45, 248, 843, 2783, 2825]\n",
      "concerts :  [222, 777, 1752, 2282, 1711]\n",
      "music :  [62, 196, 1106, 2583, 2797]\n",
      "shopping :  [1093, 1098, 1709, 1643, 1201]\n",
      "yoga :  [2285, 1392, 1369, 1056, 642]\n",
      "interests_correlate :  [18, 758, 2520, 2875, 573]\n",
      "expected_happy_with_sd_people :  [321, 1262, 3292, 1596, 273]\n",
      "like :  [273, 865, 2539, 2560, 507]\n"
     ]
    }
   ],
   "source": [
    "for column in dating:\n",
    "    if column not in non_binned_cols:\n",
    "        count = dating[column].value_counts(sort=False)\n",
    "        print (column, \": \", count.tolist())"
   ]
  },
  {
   "cell_type": "code",
   "execution_count": 104,
   "metadata": {},
   "outputs": [],
   "source": [
    "dating.to_csv(\"dating-binned.csv\", index = False)"
   ]
  },
  {
   "cell_type": "code",
   "execution_count": 134,
   "metadata": {},
   "outputs": [],
   "source": [
    "'''\n",
    "split dataset\n",
    "'''\n",
    "testset=dating.sample(frac=0.2,random_state=47)\n",
    "trainset=dating.drop(testset.index)\n",
    "testset.to_csv(\"testSet.csv\", index = False)\n",
    "trainset.to_csv(\"trainingSet.csv\", index = False)"
   ]
  },
  {
   "cell_type": "code",
   "execution_count": 161,
   "metadata": {
    "collapsed": true
   },
   "outputs": [
    {
     "name": "stdout",
     "output_type": "stream",
     "text": [
      "for column gender bin count for decision 1 are {0: 969, 1: 1366}\n",
      "for column gender bin count for decision 0 are {0: 1676, 1: 1384}\n",
      "for column age bin count for decision 1 are {0: 1288, 1: 1005, 2: 40, 3: 0, 4: 2}\n",
      "for column age bin count for decision 0 are {0: 1701, 1: 1321, 2: 37, 3: 0, 4: 1}\n",
      "for column age_o bin count for decision 1 are {0: 1339, 1: 960, 2: 35, 3: 0, 4: 1}\n",
      "for column age_o bin count for decision 0 are {0: 1650, 1: 1331, 2: 75, 3: 0, 4: 4}\n",
      "for column race bin count for decision 1 are {0: 615, 2: 1242, 4: 179, 1: 143, 3: 156}\n",
      "for column race bin count for decision 0 are {0: 698, 2: 1822, 4: 176, 1: 126, 3: 238}\n",
      "for column race_o bin count for decision 1 are {0: 464, 2: 1401, 4: 148, 1: 120, 3: 202}\n",
      "for column race_o bin count for decision 0 are {0: 846, 2: 1625, 4: 208, 1: 158, 3: 223}\n",
      "for column samerace bin count for decision 1 are {0: 1353, 1: 982}\n",
      "for column samerace bin count for decision 0 are {0: 1862, 1: 1198}\n",
      "for column importance_same_race bin count for decision 1 are {0: 1123, 1: 455, 2: 332, 3: 270, 4: 155}\n",
      "for column importance_same_race bin count for decision 0 are {0: 1265, 1: 514, 2: 451, 3: 537, 4: 293}\n",
      "for column importance_same_religion bin count for decision 1 are {0: 1210, 1: 403, 2: 342, 3: 266, 4: 114}\n",
      "for column importance_same_religion bin count for decision 0 are {0: 1342, 1: 536, 2: 554, 3: 338, 4: 290}\n",
      "for column field bin count for decision 1 are {0: 1, 2: 2, 4: 2, 6: 1, 8: 2, 10: 5, 12: 5, 14: 31, 20: 6, 22: 9, 24: 2, 26: 25, 28: 3, 30: 3, 32: 2, 34: 3, 36: 31, 38: 2, 40: 9, 42: 6, 44: 1, 46: 14, 48: 4, 50: 1, 52: 5, 54: 7, 56: 6, 58: 9, 60: 2, 62: 1, 64: 4, 66: 3, 68: 4, 70: 72, 74: 46, 76: 1, 78: 5, 80: 47, 82: 38, 84: 3, 86: 1, 88: 5, 90: 15, 92: 3, 94: 4, 96: 10, 98: 5, 100: 4, 102: 2, 104: 2, 106: 2, 108: 3, 110: 3, 112: 3, 114: 1, 116: 4, 118: 8, 120: 15, 122: 3, 124: 7, 126: 1, 130: 2, 132: 17, 134: 4, 136: 8, 138: 4, 140: 23, 142: 150, 144: 7, 146: 15, 148: 31, 150: 1, 152: 4, 154: 3, 158: 9, 160: 20, 162: 4, 164: 4, 166: 3, 168: 19, 170: 9, 172: 1, 174: 34, 176: 2, 178: 53, 180: 12, 182: 1, 184: 14, 186: 20, 190: 2, 192: 83, 194: 49, 196: 4, 198: 1, 200: 1, 202: 5, 204: 11, 206: 1, 1: 11, 3: 4, 5: 6, 7: 4, 9: 8, 11: 7, 13: 7, 15: 5, 17: 42, 19: 21, 21: 5, 23: 156, 25: 4, 27: 7, 29: 3, 31: 3, 33: 2, 35: 8, 37: 12, 39: 3, 41: 33, 43: 6, 45: 1, 47: 11, 49: 8, 51: 2, 53: 4, 55: 1, 59: 7, 61: 1, 63: 51, 65: 3, 67: 4, 69: 14, 71: 9, 73: 6, 75: 16, 77: 1, 79: 10, 81: 8, 83: 11, 85: 5, 87: 3, 89: 5, 93: 6, 95: 8, 97: 2, 99: 4, 101: 6, 103: 3, 105: 82, 107: 4, 109: 7, 111: 9, 113: 7, 115: 14, 117: 9, 119: 1, 121: 186, 125: 9, 127: 6, 129: 2, 131: 9, 133: 7, 135: 2, 137: 6, 139: 7, 141: 10, 143: 2, 145: 8, 147: 8, 149: 19, 151: 11, 153: 2, 155: 9, 157: 10, 159: 2, 161: 10, 163: 2, 165: 7, 169: 2, 171: 4, 173: 2, 175: 15, 177: 28, 179: 5, 181: 7, 185: 4, 187: 2, 189: 6, 191: 1, 193: 6, 195: 2, 197: 2, 199: 7, 201: 7, 203: 5, 205: 11, 207: 19, 209: 11}\n",
      "for column field bin count for decision 0 are {0: 10, 2: 4, 4: 5, 6: 11, 8: 7, 10: 12, 12: 3, 14: 20, 16: 7, 18: 6, 20: 9, 22: 9, 24: 3, 26: 27, 28: 11, 30: 9, 32: 7, 34: 11, 36: 38, 38: 11, 40: 7, 42: 5, 44: 2, 46: 5, 48: 5, 50: 22, 52: 11, 54: 7, 56: 1, 58: 30, 60: 3, 62: 1, 64: 9, 66: 19, 68: 9, 70: 73, 72: 11, 74: 19, 76: 7, 78: 5, 80: 40, 82: 54, 84: 7, 86: 1, 90: 30, 92: 7, 96: 4, 98: 3, 100: 13, 104: 11, 106: 11, 108: 15, 110: 3, 114: 7, 116: 5, 118: 4, 120: 25, 122: 14, 124: 1, 126: 5, 128: 2, 130: 10, 134: 8, 136: 17, 140: 36, 142: 195, 144: 9, 146: 15, 148: 35, 150: 3, 152: 12, 154: 10, 160: 8, 162: 8, 164: 11, 166: 6, 168: 21, 170: 6, 172: 1, 174: 22, 178: 65, 180: 13, 182: 5, 184: 3, 186: 10, 188: 5, 190: 1, 192: 174, 194: 55, 196: 3, 198: 10, 200: 3, 202: 6, 204: 7, 206: 8, 208: 8, 3: 4, 5: 6, 7: 9, 9: 29, 11: 2, 13: 10, 15: 11, 17: 53, 19: 39, 21: 12, 23: 253, 25: 2, 27: 6, 29: 9, 31: 4, 33: 12, 35: 6, 37: 4, 39: 6, 41: 26, 43: 4, 47: 13, 49: 4, 51: 14, 53: 10, 55: 4, 57: 2, 61: 5, 63: 29, 65: 10, 67: 8, 69: 3, 71: 16, 73: 9, 75: 22, 77: 5, 79: 19, 81: 6, 83: 2, 85: 3, 87: 5, 89: 7, 91: 1, 93: 6, 95: 16, 97: 5, 99: 9, 101: 7, 103: 3, 105: 142, 107: 5, 111: 17, 113: 8, 115: 2, 117: 4, 121: 182, 123: 8, 125: 25, 127: 4, 129: 2, 131: 6, 133: 9, 137: 6, 139: 4, 141: 4, 143: 12, 145: 6, 147: 11, 151: 3, 153: 8, 155: 30, 157: 6, 159: 10, 161: 7, 163: 8, 165: 19, 167: 15, 169: 9, 171: 11, 173: 14, 177: 41, 179: 1, 181: 13, 183: 2, 185: 4, 187: 6, 189: 12, 191: 11, 193: 10, 195: 5, 197: 9, 199: 19, 201: 7, 203: 5, 205: 6, 207: 15, 209: 5}\n",
      "for column pref_o_attractive bin count for decision 1 are {0: 1513, 1: 649, 2: 132, 3: 26, 4: 15}\n",
      "for column pref_o_attractive bin count for decision 0 are {0: 1955, 1: 947, 2: 136, 3: 16, 4: 6}\n",
      "for column pref_o_sincere bin count for decision 1 are {0: 1955, 1: 377, 2: 3, 3: 0, 4: 0}\n",
      "for column pref_o_sincere bin count for decision 0 are {0: 2441, 1: 611, 2: 8, 3: 0, 4: 0}\n",
      "for column pref_o_intelligence bin count for decision 1 are {0: 1627, 1: 678, 2: 30, 3: 0, 4: 0}\n",
      "for column pref_o_intelligence bin count for decision 0 are {0: 2055, 1: 973, 2: 32, 3: 0, 4: 0}\n",
      "for column pref_o_funny bin count for decision 1 are {0: 1948, 1: 379, 2: 8, 3: 0, 4: 0}\n",
      "for column pref_o_funny bin count for decision 0 are {0: 2528, 1: 521, 2: 11, 3: 0, 4: 0}\n",
      "for column pref_o_ambitious bin count for decision 1 are {0: 2307, 1: 28, 2: 0, 3: 0, 4: 0}\n",
      "for column pref_o_ambitious bin count for decision 0 are {0: 3018, 1: 42, 2: 0, 3: 0, 4: 0}\n",
      "for column pref_o_shared_interests bin count for decision 1 are {0: 2276, 1: 59, 2: 0, 3: 0, 4: 0}\n",
      "for column pref_o_shared_interests bin count for decision 0 are {0: 2881, 1: 179, 2: 0, 3: 0, 4: 0}\n",
      "for column attractive_important bin count for decision 1 are {0: 1534, 1: 677, 2: 102, 3: 19, 4: 3}\n",
      "for column attractive_important bin count for decision 0 are {0: 1936, 1: 922, 2: 163, 3: 28, 4: 11}\n",
      "for column sincere_important bin count for decision 1 are {0: 1855, 1: 474, 2: 6, 3: 0, 4: 0}\n",
      "for column sincere_important bin count for decision 0 are {0: 2547, 1: 507, 2: 6, 3: 0, 4: 0}\n",
      "for column intelligence_important bin count for decision 1 are {0: 1523, 1: 800, 2: 12, 3: 0, 4: 0}\n",
      "for column intelligence_important bin count for decision 0 are {0: 2168, 1: 851, 2: 41, 3: 0, 4: 0}\n",
      "for column funny_important bin count for decision 1 are {0: 1871, 1: 454, 2: 10, 3: 0, 4: 0}\n",
      "for column funny_important bin count for decision 0 are {0: 2587, 1: 463, 2: 10, 3: 0, 4: 0}\n",
      "for column ambition_important bin count for decision 1 are {0: 2292, 1: 43, 2: 0, 3: 0, 4: 0}\n",
      "for column ambition_important bin count for decision 0 are {0: 3021, 1: 39, 2: 0, 3: 0, 4: 0}\n",
      "for column shared_interests_important bin count for decision 1 are {0: 2213, 1: 122, 2: 0, 3: 0, 4: 0}\n",
      "for column shared_interests_important bin count for decision 0 are {0: 2983, 1: 77, 2: 0, 3: 0, 4: 0}\n",
      "for column attractive bin count for decision 1 are {0: 12, 1: 120, 2: 563, 3: 1349, 4: 291}\n",
      "for column attractive bin count for decision 0 are {0: 3, 1: 103, 2: 621, 3: 1926, 4: 407}\n",
      "for column sincere bin count for decision 1 are {0: 10, 1: 57, 2: 185, 3: 918, 4: 1165}\n",
      "for column sincere bin count for decision 0 are {0: 19, 1: 39, 2: 209, 3: 1249, 4: 1544}\n",
      "for column intelligence bin count for decision 1 are {0: 14, 1: 79, 2: 352, 3: 1106, 4: 784}\n",
      "for column intelligence bin count for decision 0 are {0: 13, 1: 71, 2: 470, 3: 1438, 4: 1068}\n",
      "for column funny bin count for decision 1 are {0: 0, 1: 10, 2: 75, 3: 1055, 4: 1195}\n",
      "for column funny bin count for decision 0 are {0: 0, 1: 8, 2: 110, 3: 1464, 4: 1478}\n",
      "for column ambition bin count for decision 1 are {0: 24, 1: 117, 2: 393, 3: 983, 4: 818}\n",
      "for column ambition bin count for decision 0 are {0: 36, 1: 141, 2: 461, 3: 1328, 4: 1094}\n",
      "for column attractive_partner bin count for decision 1 are {0: 15, 1: 69, 2: 587, 3: 1211, 4: 453}\n",
      "for column attractive_partner bin count for decision 0 are {0: 221, 1: 688, 2: 1359, 3: 694, 4: 98}\n",
      "for column sincere_partner bin count for decision 1 are {0: 10, 1: 47, 2: 422, 3: 1250, 4: 606}\n",
      "for column sincere_partner bin count for decision 0 are {0: 63, 1: 224, 2: 891, 3: 1372, 4: 510}\n",
      "for column intelligence_parter bin count for decision 1 are {0: 0, 1: 20, 2: 353, 3: 1313, 4: 649}\n",
      "for column intelligence_parter bin count for decision 0 are {0: 29, 1: 131, 2: 846, 3: 1505, 4: 549}\n",
      "for column funny_partner bin count for decision 1 are {0: 11, 1: 60, 2: 582, 3: 1206, 4: 476}\n",
      "for column funny_partner bin count for decision 0 are {0: 210, 1: 535, 2: 1268, 3: 865, 4: 182}\n",
      "for column ambition_partner bin count for decision 1 are {0: 10, 1: 78, 2: 667, 3: 1111, 4: 469}\n",
      "for column ambition_partner bin count for decision 0 are {0: 87, 1: 285, 2: 1130, 3: 1150, 4: 408}\n",
      "for column shared_interests_partner bin count for decision 1 are {0: 60, 1: 191, 2: 880, 3: 919, 4: 285}\n",
      "for column shared_interests_partner bin count for decision 0 are {0: 501, 1: 798, 2: 1165, 3: 503, 4: 93}\n"
     ]
    },
    {
     "name": "stdout",
     "output_type": "stream",
     "text": [
      "for column sports bin count for decision 1 are {0: 269, 1: 339, 2: 479, 3: 677, 4: 571}\n",
      "for column sports bin count for decision 0 are {0: 253, 1: 430, 2: 625, 3: 983, 4: 769}\n",
      "for column tvsports bin count for decision 1 are {0: 767, 1: 436, 2: 442, 3: 465, 4: 225}\n",
      "for column tvsports bin count for decision 0 are {0: 963, 1: 592, 2: 555, 3: 643, 4: 307}\n",
      "for column exercise bin count for decision 1 are {0: 285, 1: 357, 2: 607, 3: 711, 4: 375}\n",
      "for column exercise bin count for decision 0 are {0: 236, 1: 420, 2: 770, 3: 999, 4: 635}\n",
      "for column dining bin count for decision 1 are {0: 24, 1: 71, 2: 409, 3: 950, 4: 881}\n",
      "for column dining bin count for decision 0 are {0: 9, 1: 70, 2: 488, 3: 1289, 4: 1204}\n",
      "for column museums bin count for decision 1 are {0: 46, 1: 265, 2: 485, 3: 926, 4: 613}\n",
      "for column museums bin count for decision 0 are {0: 49, 1: 331, 2: 643, 3: 1252, 4: 785}\n",
      "for column art bin count for decision 1 are {0: 74, 1: 323, 2: 521, 3: 863, 4: 554}\n",
      "for column art bin count for decision 0 are {0: 106, 1: 430, 2: 724, 3: 1131, 4: 669}\n",
      "for column hiking bin count for decision 1 are {0: 324, 1: 463, 2: 567, 3: 640, 4: 341}\n",
      "for column hiking bin count for decision 0 are {0: 434, 1: 654, 2: 693, 3: 852, 4: 427}\n",
      "for column gaming bin count for decision 1 are {0: 785, 1: 551, 2: 516, 3: 396, 4: 87}\n",
      "for column gaming bin count for decision 0 are {0: 1288, 1: 670, 2: 620, 3: 377, 4: 105}\n",
      "for column clubbing bin count for decision 1 are {0: 292, 1: 344, 2: 627, 3: 752, 4: 320}\n",
      "for column clubbing bin count for decision 0 are {0: 436, 1: 539, 2: 697, 3: 984, 4: 404}\n",
      "for column reading bin count for decision 1 are {0: 37, 1: 112, 2: 378, 3: 841, 4: 967}\n",
      "for column reading bin count for decision 0 are {0: 66, 1: 207, 2: 447, 3: 1039, 4: 1301}\n",
      "for column tv bin count for decision 1 are {0: 419, 1: 405, 2: 700, 3: 599, 4: 212}\n",
      "for column tv bin count for decision 0 are {0: 539, 1: 565, 2: 899, 3: 703, 4: 354}\n",
      "for column theater bin count for decision 1 are {0: 89, 1: 261, 2: 608, 3: 782, 4: 595}\n",
      "for column theater bin count for decision 0 are {0: 145, 1: 374, 2: 688, 3: 1031, 4: 822}\n",
      "for column movies bin count for decision 1 are {0: 9, 1: 89, 2: 302, 3: 1032, 4: 903}\n",
      "for column movies bin count for decision 0 are {0: 31, 1: 107, 2: 388, 3: 1179, 4: 1355}\n",
      "for column concerts bin count for decision 1 are {0: 79, 1: 279, 2: 577, 3: 743, 4: 657}\n",
      "for column concerts bin count for decision 0 are {0: 105, 1: 346, 2: 813, 3: 1076, 4: 720}\n",
      "for column music bin count for decision 1 are {0: 27, 1: 75, 2: 356, 3: 877, 4: 1000}\n",
      "for column music bin count for decision 0 are {0: 22, 1: 84, 2: 519, 3: 1192, 4: 1243}\n",
      "for column shopping bin count for decision 1 are {0: 407, 1: 360, 2: 639, 3: 557, 4: 372}\n",
      "for column shopping bin count for decision 0 are {0: 492, 1: 484, 2: 710, 3: 767, 4: 607}\n",
      "for column yoga bin count for decision 1 are {0: 765, 1: 441, 2: 503, 3: 381, 4: 245}\n",
      "for column yoga bin count for decision 0 are {0: 1058, 1: 657, 2: 595, 3: 479, 4: 271}\n",
      "for column interests_correlate bin count for decision 1 are {0: 2, 1: 252, 2: 862, 3: 1001, 4: 218}\n",
      "for column interests_correlate bin count for decision 0 are {0: 12, 1: 365, 2: 1146, 3: 1284, 4: 253}\n",
      "for column expected_happy_with_sd_people bin count for decision 1 are {0: 93, 1: 390, 2: 1133, 3: 603, 4: 116}\n",
      "for column expected_happy_with_sd_people bin count for decision 0 are {0: 172, 1: 641, 2: 1463, 3: 686, 4: 98}\n",
      "for column like bin count for decision 1 are {0: 5, 1: 37, 2: 589, 3: 1367, 4: 337}\n",
      "for column like bin count for decision 0 are {0: 215, 1: 654, 2: 1450, 3: 677, 4: 64}\n",
      "for column decision bin count for decision 1 are {1: 2335}\n",
      "for column decision bin count for decision 0 are {0: 3060}\n"
     ]
    }
   ],
   "source": [
    "count_dict_yes = {}\n",
    "count_dict_no = {}\n",
    "for column in trainset:\n",
    "    count_dict_yes[column] = trainset[trainset['decision'] == 1][column].value_counts(sort=False).to_dict()\n",
    "    count_dict_no[column] = trainset[trainset['decision'] == 0][column].value_counts(sort=False).to_dict()\n",
    "    print ('for column', column, 'bin count for decision 1 are', \n",
    "           count_dict_yes[column])\n",
    "    print ('for column', column, 'bin count for decision 0 are',\n",
    "           count_dict_no[column])"
   ]
  },
  {
   "cell_type": "code",
   "execution_count": 184,
   "metadata": {
    "collapsed": true
   },
   "outputs": [],
   "source": [
    "def get_probability(attribute, value, decision):\n",
    "    if decision == 1:\n",
    "        value_count = 0\n",
    "        if value in count_dict_yes[attribute]:\n",
    "            value_count = count_dict_yes[attribute][value]\n",
    "        return (value_count+1.0)/(count_dict_yes['decision'][1]+len(count_dict_yes[attribute]))\n",
    "    elif decision == 0:\n",
    "        value_count = 0\n",
    "        if value in count_dict_no[attribute]:\n",
    "            value_count = count_dict_no[attribute][value]\n",
    "        return (value_count+1.0)/(count_dict_no['decision'][0]+len(count_dict_no[attribute]))"
   ]
  },
  {
   "cell_type": "code",
   "execution_count": 187,
   "metadata": {
    "collapsed": true
   },
   "outputs": [],
   "source": [
    "prior_probability_dec_1 = count_dict_yes['decision'][1]/(count_dict_no['decision'][0]+count_dict_yes['decision'][1])\n",
    "prior_probability_dec_0 = count_dict_no['decision'][0]/(count_dict_no['decision'][0]+count_dict_yes['decision'][1])"
   ]
  },
  {
   "cell_type": "code",
   "execution_count": 200,
   "metadata": {},
   "outputs": [],
   "source": [
    "def inference(dataset):\n",
    "    correct = 0\n",
    "    len_dataset = len(dataset)\n",
    "#     len_dataset = 2\n",
    "    for i in range(len_dataset):\n",
    "        prob_dec_1 = 1.0\n",
    "        prob_dec_0 = 1.0\n",
    "        for column in dataset:\n",
    "            if column != 'decision':\n",
    "                prob_dec_1 += np.log(get_probability(column, dataset.iloc[i][column], 1))\n",
    "                prob_dec_0 += np.log(get_probability(column, dataset.iloc[i][column], 0))\n",
    "    #             print (column)\n",
    "        '''\n",
    "        multiply by prior probabilities\n",
    "        '''\n",
    "        prob_dec_1 += np.log(prior_probability_dec_1)\n",
    "        prob_dec_0 += np.log(prior_probability_dec_0)\n",
    "#         print (prob_dec_1)\n",
    "#         print (prob_dec_0)\n",
    "        predicted_value = 0\n",
    "        true_value = dataset.iloc[i]['decision']\n",
    "        if prob_dec_1 > prob_dec_0:\n",
    "            predicted_value = 1\n",
    "    #     print (\"predicted value is \", predicted_value, \"true value is \", true_value)\n",
    "        if predicted_value == true_value:\n",
    "            correct += 1\n",
    "    print (\"accuracy \", correct/len_dataset)\n",
    "    return accuracy"
   ]
  },
  {
   "cell_type": "code",
   "execution_count": 201,
   "metadata": {},
   "outputs": [
    {
     "name": "stdout",
     "output_type": "stream",
     "text": [
      "accuracy  0.7494440326167532\n"
     ]
    },
    {
     "ename": "NameError",
     "evalue": "name 'accuracy' is not defined",
     "output_type": "error",
     "traceback": [
      "\u001b[0;31m---------------------------------------------------------------------------\u001b[0m",
      "\u001b[0;31mNameError\u001b[0m                                 Traceback (most recent call last)",
      "\u001b[0;32m<ipython-input-201-e522b70dfa28>\u001b[0m in \u001b[0;36m<module>\u001b[0;34m()\u001b[0m\n\u001b[0;32m----> 1\u001b[0;31m \u001b[0minference\u001b[0m\u001b[0;34m(\u001b[0m\u001b[0mtestset\u001b[0m\u001b[0;34m)\u001b[0m\u001b[0;34m\u001b[0m\u001b[0;34m\u001b[0m\u001b[0m\n\u001b[0m",
      "\u001b[0;32m<ipython-input-200-cc646e2093ac>\u001b[0m in \u001b[0;36minference\u001b[0;34m(dataset)\u001b[0m\n\u001b[1;32m     26\u001b[0m             \u001b[0mcorrect\u001b[0m \u001b[0;34m+=\u001b[0m \u001b[0;36m1\u001b[0m\u001b[0;34m\u001b[0m\u001b[0;34m\u001b[0m\u001b[0m\n\u001b[1;32m     27\u001b[0m     \u001b[0mprint\u001b[0m \u001b[0;34m(\u001b[0m\u001b[0;34m\"accuracy \"\u001b[0m\u001b[0;34m,\u001b[0m \u001b[0mcorrect\u001b[0m\u001b[0;34m/\u001b[0m\u001b[0mlen_dataset\u001b[0m\u001b[0;34m)\u001b[0m\u001b[0;34m\u001b[0m\u001b[0;34m\u001b[0m\u001b[0m\n\u001b[0;32m---> 28\u001b[0;31m     \u001b[0;32mreturn\u001b[0m \u001b[0maccuracy\u001b[0m\u001b[0;34m\u001b[0m\u001b[0;34m\u001b[0m\u001b[0m\n\u001b[0m",
      "\u001b[0;31mNameError\u001b[0m: name 'accuracy' is not defined"
     ]
    }
   ],
   "source": [
    "inference(testset)"
   ]
  },
  {
   "cell_type": "code",
   "execution_count": 162,
   "metadata": {},
   "outputs": [
    {
     "name": "stdout",
     "output_type": "stream",
     "text": [
      "198\n",
      "193\n"
     ]
    }
   ],
   "source": [
    "print(len(count_dict_yes['field']))\n",
    "print(len(count_dict_no['field']))"
   ]
  },
  {
   "cell_type": "code",
   "execution_count": 181,
   "metadata": {},
   "outputs": [
    {
     "name": "stdout",
     "output_type": "stream",
     "text": [
      "True\n"
     ]
    }
   ],
   "source": [
    "print(209 in count_dict_yes['field'])"
   ]
  },
  {
   "cell_type": "code",
   "execution_count": 191,
   "metadata": {},
   "outputs": [
    {
     "name": "stdout",
     "output_type": "stream",
     "text": [
      "5395\n"
     ]
    }
   ],
   "source": [
    "print (len(trainset))"
   ]
  },
  {
   "cell_type": "code",
   "execution_count": null,
   "metadata": {
    "collapsed": true
   },
   "outputs": [],
   "source": []
  }
 ],
 "metadata": {
  "kernelspec": {
   "display_name": "Python 3",
   "language": "python",
   "name": "python3"
  },
  "language_info": {
   "codemirror_mode": {
    "name": "ipython",
    "version": 3
   },
   "file_extension": ".py",
   "mimetype": "text/x-python",
   "name": "python",
   "nbconvert_exporter": "python",
   "pygments_lexer": "ipython3",
   "version": "3.6.7"
  }
 },
 "nbformat": 4,
 "nbformat_minor": 2
}
